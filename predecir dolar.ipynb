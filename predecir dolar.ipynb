{
 "cells": [
  {
   "cell_type": "code",
   "execution_count": 1,
   "id": "9dcac193",
   "metadata": {},
   "outputs": [],
   "source": [
    "import pandas as pd\n",
    "import matplotlib.pyplot as plt\n",
    "import seaborn as sns\n",
    "import numpy as np\n",
    "sns.set()"
   ]
  },
  {
   "cell_type": "code",
   "execution_count": null,
   "id": "d4480800",
   "metadata": {},
   "outputs": [],
   "source": []
  },
  {
   "cell_type": "code",
   "execution_count": 12,
   "id": "a7a289b7",
   "metadata": {},
   "outputs": [
    {
     "name": "stdout",
     "output_type": "stream",
     "text": [
      "Pendiente (m): 0.9998241207095628\n",
      "Intercepto (b): 0.0023284327970873875\n",
      "Predicción para el próximo registro (15 min después): 13.939876675488392\n"
     ]
    }
   ],
   "source": [
    "\n",
    "df = pd.read_excel(\"PD.xlsx\")\n",
    "\n",
    "# Convertir las columnas de fecha y hora a un solo datetime\n",
    "df[\"fecha_hora\"] = pd.to_datetime(df[\"Fecha\"].astype(str) + \" \" + df[\"Hora\"].astype(str))\n",
    "\n",
    "# Ordenar por fecha y hora (por si no lo está)\n",
    "df = df.sort_values(\"fecha_hora\")\n",
    "\n",
    "# Variables: precio actual y precio siguiente\n",
    "df[\"venta_siguiente\"] = df[\"Venta paralela\"].shift(-1)  # desplazar una fila hacia arriba\n",
    "\n",
    "# Eliminar la última fila (que tendrá NaN en venta_siguiente)\n",
    "df = df.dropna()\n",
    "\n",
    "# X y y para regresión\n",
    "x = df[\"Venta paralela\"].values\n",
    "y = df[\"venta_siguiente\"].values\n",
    "\n",
    "# Calcular medias\n",
    "x_mean = np.mean(x)\n",
    "y_mean = np.mean(y)\n",
    "\n",
    "# Pendiente m\n",
    "m = np.sum((x - x_mean) * (y - y_mean)) / np.sum((x - x_mean)**2)\n",
    "\n",
    "# Intercepto b\n",
    "b = y_mean - m * x_mean\n",
    "\n",
    "# Predicción para el siguiente registro después del último valor\n",
    "ultimo_valor = df[\"Venta paralela\"].iloc[-1]\n",
    "prediccion = m * ultimo_valor + b\n",
    "\n",
    "print(f\"Pendiente (m): {m}\")\n",
    "print(f\"Intercepto (b): {b}\")\n",
    "print(f\"Predicción para el próximo registro (15 min después): {prediccion}\")\n"
   ]
  },
  {
   "cell_type": "code",
   "execution_count": null,
   "id": "0718a8ef",
   "metadata": {},
   "outputs": [
    {
     "name": "stdout",
     "output_type": "stream",
     "text": [
      "[np.float64(13.939876675488392), np.float64(13.939753372667013), np.float64(13.939630091532047), np.float64(13.93950683207968), np.float64(13.939383594306097), np.float64(13.939260378207486), np.float64(13.939137183780035), np.float64(13.939014011019934), np.float64(13.938890859923369), np.float64(13.938767730486532)]\n",
      "Predicción para 1 días después: 13.928259211477824\n"
     ]
    }
   ],
   "source": [
    "# Leer el Excel\n",
    "df = pd.read_excel(\"PD.xlsx\")\n",
    "\n",
    "# Combinar fecha y hora\n",
    "df[\"fecha_hora\"] = pd.to_datetime(df[\"Fecha\"].astype(str) + \" \" + df[\"Hora\"].astype(str))\n",
    "df = df.sort_values(\"fecha_hora\")\n",
    "\n",
    "# Variable objetivo: precio en el siguiente registro\n",
    "df[\"venta_siguiente\"] = df[\"Venta paralela\"].shift(-1)\n",
    "df = df.dropna()\n",
    "\n",
    "# Datos para regresión\n",
    "x = df[\"Venta paralela\"].values\n",
    "y = df[\"venta_siguiente\"].values\n",
    "\n",
    "# Calcular pendiente e intercepto\n",
    "x_mean = np.mean(x)\n",
    "y_mean = np.mean(y)\n",
    "m = np.sum((x - x_mean) * (y - y_mean)) / np.sum((x - x_mean)**2)\n",
    "b = y_mean - m * x_mean\n",
    "\n",
    "# Predicciones para N días después\n",
    "N_dias = 1\n",
    "pasos = N_dias * 96  # registros por día\n",
    "\n",
    "valor_actual = df[\"Venta paralela\"].iloc[-1]\n",
    "predicciones = []\n",
    "\n",
    "for _ in range(pasos):\n",
    "    valor_actual = m * valor_actual + b  # predicción siguiente\n",
    "    predicciones.append(valor_actual)\n",
    "\n",
    "# Mostrar las primeras 10 predicciones\n",
    "print(predicciones[:10])\n",
    "\n",
    "# Mostrar la última predicción (N días después)\n",
    "print(f\"Predicción para {N_dias} días después: {predicciones[-1]}\")\n"
   ]
  }
 ],
 "metadata": {
  "kernelspec": {
   "display_name": "Python 3",
   "language": "python",
   "name": "python3"
  },
  "language_info": {
   "codemirror_mode": {
    "name": "ipython",
    "version": 3
   },
   "file_extension": ".py",
   "mimetype": "text/x-python",
   "name": "python",
   "nbconvert_exporter": "python",
   "pygments_lexer": "ipython3",
   "version": "3.13.3"
  }
 },
 "nbformat": 4,
 "nbformat_minor": 5
}
